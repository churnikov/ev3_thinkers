{
  "cells": [
    {
      "cell_type": "markdown",
      "source": "# Controller for EXPLOR3R\n\n![EXPLOR3R](http://robotsquare.com/wp-content/uploads/2015/10/EXPLOR3Rwithtouchsensor.jpg)\n\nThis notebook is an implementation of simple controller for [EXPLOR3R](http://robotsquare.com/2015/10/06/explor3r-building-instructions/). \n\nIdea is to make robot bump into the wall, drive back a little and turn 90 degrees to the left.",
      "metadata": {
        "pycharm": {
          "metadata": false,
          "name": "#%% md\n"
        }
      }
    },
    {
      "cell_type": "code",
      "execution_count": 2,
      "outputs": [],
      "source": "import sys\n\nimport rpyc\nfrom dependencies import Injector\nfrom ev3dev import ev3\nfrom ev3dev.ev3 import TouchSensor, InfraredSensor, LargeMotor, Button\n\nDegree \u003d float ",
      "metadata": {
        "pycharm": {
          "metadata": false,
          "name": "#%%\n",
          "is_executing": false
        }
      }
    },
    {
      "cell_type": "code",
      "execution_count": 3,
      "outputs": [],
      "source": "host \u003d \"192.168.2.2\"\n\ntry:\n    conn \u003d rpyc.classic.connect(host)\n    \n    ev3 \u003d conn.modules[\"ev3dev.ev3\"]\nexcept Exception:\n    print(sys.exc_info())",
      "metadata": {
        "pycharm": {
          "metadata": false,
          "name": "#%%\n",
          "is_executing": false
        }
      }
    },
    {
      "cell_type": "code",
      "execution_count": 5,
      "outputs": [],
      "source": "class StopCondition:\n    \n    def __init__(self, touch_sensor: TouchSensor, infra_sensor: InfraredSensor, infra_dist_threshold: int,\n                 button: Button):\n        self.button \u003d button\n        self.touch_sensor \u003d touch_sensor\n        self.infra_sensor \u003d infra_sensor\n        self.infra_dist_threshold \u003d infra_dist_threshold\n\n    def __call__(self):\n        return self.touch_sensor.value() or self.infra_sensor.value() \u003c self.infra_dist_threshold or self.button.enter \n        ",
      "metadata": {
        "pycharm": {
          "metadata": false,
          "name": "#%%\n",
          "is_executing": false
        }
      }
    },
    {
      "cell_type": "code",
      "execution_count": 6,
      "outputs": [],
      "source": "\nclass GoStraight:\n    \n    def __init__(self, left_wheel: LargeMotor, right_wheel: LargeMotor, speed: int):\n        self.speed \u003d speed\n        self.right_wheel \u003d right_wheel\n        self.left_wheel \u003d left_wheel\n\n    def __call__(self):\n        self.left_wheel.run_forever(speed_sp \u003d self.speed)\n        self.right_wheel.run_forever(speed_sp \u003d self.speed)\n        \nclass GoBack(GoStraight):\n    \n    def __init__(self, left_wheel: LargeMotor, right_wheel: LargeMotor, speed: int):\n        super().__init__(left_wheel, right_wheel, speed)\n        self.speed \u003d -speed\n        \n    def __call__(self):\n        self.left_wheel.run_timed(speed_sp \u003d self.speed, time_sp\u003d500)\n        self.right_wheel.run_timed(speed_sp \u003d self.speed, time_sp\u003d500)\n        \nclass Stop:\n    \n    def __init__(self, left_wheel: LargeMotor, right_wheel: LargeMotor):\n        self.right_wheel \u003d right_wheel\n        self.left_wheel \u003d left_wheel\n\n    def __call__(self):\n        self.left_wheel.stop()\n        self.right_wheel.stop() \n",
      "metadata": {
        "pycharm": {
          "metadata": false,
          "name": "#%%\n",
          "is_executing": false
        }
      }
    },
    {
      "cell_type": "markdown",
      "source": "Робот повернется на $90^{o}$ если колеса будут деть один полный оборот за 1 секунду `speed_sp\u003d360, time_sp\u003d1000` \n    ",
      "metadata": {
        "pycharm": {
          "metadata": false
        }
      }
    },
    {
      "cell_type": "code",
      "execution_count": 7,
      "outputs": [],
      "source": "class Turn:\n    \n    def __init__(self, left_wheel: LargeMotor, right_wheel: LargeMotor):\n        self.right_wheel \u003d right_wheel\n        self.left_wheel \u003d left_wheel\n    \n    def velocity_from_degree(self, degree: Degree, robot_speed: int):\n        n_turns \u003d degree / 90\n        denominator \u003d robot_speed / 360\n        \n        speed \u003d n_turns * 360 / denominator\n        time \u003d abs(n_turns * 1000 / denominator)\n        \n        return speed, time\n    \n    def __call__(self, degree, speed):\n        speed_sp, time_sp \u003d self.velocity_from_degree(degree, speed)\n        \n        self.left_wheel.run_timed(speed_sp\u003dspeed_sp, time_sp\u003dtime_sp)\n        self.right_wheel.run_timed(speed_sp\u003d-speed_sp, time_sp\u003dtime_sp)\n    \n",
      "metadata": {
        "pycharm": {
          "metadata": false,
          "name": "#%%\n",
          "is_executing": false
        }
      }
    },
    {
      "cell_type": "code",
      "execution_count": 8,
      "outputs": [],
      "source": "class WalkingRobot:\n    def __init__(self, forward: GoStraight, turn: Turn, stop_condition: StopCondition, stop: Stop,\n                 go_back: GoBack, degree: float, speed: int, button: Button):\n        self.button \u003d button\n        self.speed \u003d speed\n        self.degree \u003d degree\n        self.go_back \u003d go_back\n        self.stop_condition \u003d stop_condition\n        self.stop \u003d stop\n        self.turn \u003d turn\n        self.forward \u003d forward\n        \n    def run(self):\n        try:\n            while not self.button.enter:\n                while not self.stop_condition():\n                    self.forward()\n                self.stop()\n                self.go_back()\n                self.turn(self.degree, self.speed)\n        except KeyboardInterrupt as e:\n            print(e)\n            self.stop()\n            ",
      "metadata": {
        "pycharm": {
          "metadata": false,
          "name": "#%%\n",
          "is_executing": false
        }
      }
    },
    {
      "cell_type": "code",
      "execution_count": 11,
      "outputs": [],
      "source": "class RobotContainer(Injector):\n    robot \u003d WalkingRobot\n    forward \u003d GoStraight\n    turn \u003d Turn\n    stop_condition \u003d StopCondition\n    stop \u003d Stop\n    go_back \u003d GoBack\n    speed \u003d 360\n    degree \u003d 90\n    infra_dist_threshold \u003d 30\n    touch_sensor \u003d ev3.TouchSensor(\u0027in1\u0027)\n    infra_sensor \u003d ev3.InfraredSensor(\u0027in2\u0027)\n    left_wheel \u003d ev3.LargeMotor(\u0027outA\u0027)\n    right_wheel \u003d ev3.LargeMotor(\u0027outB\u0027)\n    button \u003d ev3.Button()",
      "metadata": {
        "pycharm": {
          "metadata": false,
          "name": "#%%\n",
          "is_executing": false
        }
      }
    },
    {
      "cell_type": "code",
      "execution_count": 12,
      "outputs": [
        {
          "name": "stdout",
          "text": [
            "\n"
          ],
          "output_type": "stream"
        }
      ],
      "source": "RobotContainer.robot.run()\n",
      "metadata": {
        "pycharm": {
          "metadata": false,
          "name": "#%%\n",
          "is_executing": false
        }
      }
    }
  ],
  "metadata": {
    "language_info": {
      "codemirror_mode": {
        "name": "ipython",
        "version": 2
      },
      "file_extension": ".py",
      "mimetype": "text/x-python",
      "name": "python",
      "nbconvert_exporter": "python",
      "pygments_lexer": "ipython2",
      "version": "2.7.6"
    },
    "kernelspec": {
      "name": "python3",
      "language": "python",
      "display_name": "Python 3"
    },
    "stem_cell": {
      "cell_type": "raw",
      "source": "",
      "metadata": {
        "pycharm": {
          "metadata": false
        }
      }
    }
  },
  "nbformat": 4,
  "nbformat_minor": 0
}